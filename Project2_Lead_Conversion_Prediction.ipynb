{
  "nbformat": 4,
  "nbformat_minor": 0,
  "metadata": {
    "colab": {
      "provenance": [],
      "authorship_tag": "ABX9TyNIMFI8qa4uJoo9zOpFLp/S",
      "include_colab_link": true
    },
    "kernelspec": {
      "name": "python3",
      "display_name": "Python 3"
    },
    "language_info": {
      "name": "python"
    }
  },
  "cells": [
    {
      "cell_type": "markdown",
      "metadata": {
        "id": "view-in-github",
        "colab_type": "text"
      },
      "source": [
        "<a href=\"https://colab.research.google.com/github/KrishnaKakani-GitHub/Introduction-To-Github/blob/main/Project2_Lead_Conversion_Prediction.ipynb\" target=\"_parent\"><img src=\"https://colab.research.google.com/assets/colab-badge.svg\" alt=\"Open In Colab\"/></a>"
      ]
    },
    {
      "cell_type": "code",
      "execution_count": null,
      "metadata": {
        "id": "jK3WYV7tEScv"
      },
      "outputs": [],
      "source": [
        "import warnings\n",
        "warnings.filterwarnings(\"ignore\")\n",
        "from statsmodels.tools.sm_exceptions import ConvergenceWarning\n",
        "warnings.simplefilter(\"ignore\", ConvergenceWarning)\n",
        "\n",
        "# Libraries to help with reading and manipulating data\n",
        "import pandas as pd\n",
        "import numpy as np\n",
        "\n",
        "# Library to split data\n",
        "from sklearn.model_selection import train_test_split\n",
        "\n",
        "# libaries to help with data visualization\n",
        "import matplotlib.pyplot as plt\n",
        "import seaborn as sns\n",
        "\n",
        "# Removes the limit for the number of displayed columns\n",
        "pd.set_option(\"display.max_columns\", None)\n",
        "\n",
        "# Sets the limit for the number of displayed rows\n",
        "pd.set_option(\"display.max_rows\", 200)\n",
        "\n",
        "# setting the precision of floating numbers to 5 decimal points\n",
        "pd.set_option(\"display.float_format\", lambda x: \"%.5f\" % x)\n",
        "\n",
        "# To build model for prediction\n",
        "import statsmodels.stats.api as sms\n",
        "from statsmodels.stats.outliers_influence import variance_inflation_factor\n",
        "import statsmodels.api as sm\n",
        "from statsmodels.tools.tools import add_constant\n",
        "from sklearn.linear_model import LogisticRegression\n",
        "from sklearn.tree import DecisionTreeClassifier\n",
        "from sklearn import tree\n",
        "from sklearn.ensemble import RandomForestClassifier"
      ]
    },
    {
      "cell_type": "code",
      "source": [
        "# To tune different models\n",
        "from sklearn.model_selection import GridSearchCV\n",
        "\n",
        "# To get different metric scores\n",
        "import sklearn.metrics as metrics\n",
        "from sklearn.metrics import (\n",
        "    f1_score,\n",
        "    accuracy_score,\n",
        "    recall_score,\n",
        "    precision_score,\n",
        "    confusion_matrix,\n",
        "    classification_report,\n",
        "    roc_auc_score,\n",
        "    precision_recall_curve,\n",
        "    roc_curve,\n",
        "    make_scorer,\n",
        ")\n"
      ],
      "metadata": {
        "id": "tKUYF3mlEjkX"
      },
      "execution_count": null,
      "outputs": []
    },
    {
      "cell_type": "code",
      "source": [
        "# Importing my drive\n",
        "from google.colab import drive\n",
        "drive.mount('/content/drive')"
      ],
      "metadata": {
        "colab": {
          "base_uri": "https://localhost:8080/"
        },
        "id": "a-G5XX8vEsx4",
        "outputId": "00a3bcc3-e1cb-47d0-82ce-791413ce985f"
      },
      "execution_count": null,
      "outputs": [
        {
          "output_type": "stream",
          "name": "stdout",
          "text": [
            "Mounted at /content/drive\n"
          ]
        }
      ]
    },
    {
      "cell_type": "code",
      "source": [
        "# Importing the Dataset\n",
        "\n",
        "learn = pd.read_csv('ExtraaLearn.csv') # Complete the code to read the\n",
        "dataset\n",
        "data = pd.read_csv('ExtraaLearn.csv')\n",
        "# copying data to another variable to avoid any changes to original\n",
        "data\n",
        "data = learn.copy()"
      ],
      "metadata": {
        "id": "ovczVC9PEwbE"
      },
      "execution_count": null,
      "outputs": []
    },
    {
      "cell_type": "code",
      "source": [
        "# Viewing the first 5 rows of the dataset\n",
        "\n",
        "data.head()"
      ],
      "metadata": {
        "id": "vF47NwfwFJiS"
      },
      "execution_count": null,
      "outputs": []
    },
    {
      "cell_type": "code",
      "source": [
        "# Viewing the last 5 rows of the dataset\n",
        "\n",
        "data.tail()"
      ],
      "metadata": {
        "id": "0k-81PytFYp4"
      },
      "execution_count": null,
      "outputs": []
    },
    {
      "cell_type": "code",
      "source": [
        "# Understand the shape of the data\n",
        "\n",
        "data.shape"
      ],
      "metadata": {
        "id": "WQSZ1vCvFf7c"
      },
      "execution_count": null,
      "outputs": []
    },
    {
      "cell_type": "code",
      "source": [
        "# Check the data types of the columns for the dataset\n",
        "\n",
        "data.info"
      ],
      "metadata": {
        "id": "uuccY845Fn4V"
      },
      "execution_count": null,
      "outputs": []
    },
    {
      "cell_type": "code",
      "source": [
        "# Checking for duplicate values\n",
        "data.duplicated()"
      ],
      "metadata": {
        "id": "q8VzxAweF_PJ"
      },
      "execution_count": null,
      "outputs": []
    },
    {
      "cell_type": "markdown",
      "source": [
        "## Exploratory Data Analysis"
      ],
      "metadata": {
        "id": "pHSo83NZGHy3"
      }
    },
    {
      "cell_type": "code",
      "source": [
        "# Let's check the statistical summary of the data:\n",
        "\n",
        "data.describe(include='all').T\n"
      ],
      "metadata": {
        "id": "A9czVtWUFvpO"
      },
      "execution_count": null,
      "outputs": []
    },
    {
      "cell_type": "code",
      "source": [
        "# Making a list of all categorical variables\n",
        "\n",
        "cat_col = list(data.select_dtypes(\"object\").columns)\n",
        "\n",
        "# Printing count of each unique value in each column\n",
        "for column in cat_col:\n",
        "    print(data[column].value_counts())\n",
        "    print(\"-\" * 50)"
      ],
      "metadata": {
        "id": "CFxkRP0DGNBr"
      },
      "execution_count": null,
      "outputs": []
    },
    {
      "cell_type": "code",
      "source": [
        "# checking the number of unique values\n",
        "data[\"ID\"].unique() # Complete the code to check the number of unique values\n",
        "\n",
        "data.drop([\"ID\"], axis = 1, inplace = True)"
      ],
      "metadata": {
        "id": "9bDdFjL_Fvrb"
      },
      "execution_count": null,
      "outputs": []
    },
    {
      "cell_type": "code",
      "source": [
        "# Univariate Analysis - function to plot a boxplot and a histogram along the same scale\n",
        "\n",
        "def histogram_boxplot(data, feature, figsize=(12, 7), kde=False, bins=None):\n",
        "    \"\"\"\n",
        "    Boxplot and histogram combined\n",
        "    data: dataframe\n",
        "    feature: dataframe column\n",
        "    figsize: size of figure (default (12,7))\n",
        "    kde: whether to the show density curve (default False)\n",
        "    bins: number of bins for histogram (default None)\n",
        "    \"\"\"\n",
        "    f2, (ax_box2, ax_hist2) = plt.subplots(\n",
        "        nrows=2,  # Number of rows of the subplot grid = 2\n",
        "        sharex=True,  # x-axis will be shared among all subplots\n",
        "        gridspec_kw={\"height_ratios\": (0.25, 0.75)},\n",
        "        figsize=figsize,\n",
        "    )\n",
        "\n",
        "    # Creating the 2 subplots\n",
        "    sns.boxplot(\n",
        "        data=data,\n",
        "        x=feature,\n",
        "        ax=ax_box2,\n",
        "        showmeans=True,\n",
        "        color=\"violet\"\n",
        "    )\n",
        "\n",
        "    # Boxplot will be created and a star will indicate the mean value of the column\n",
        "    sns.histplot(\n",
        "        data=data,\n",
        "        x=feature,\n",
        "        kde=kde,\n",
        "        ax=ax_hist2,\n",
        "        bins=bins,\n",
        "        palette=\"winter\"\n",
        "    ) if bins else sns.histplot(\n",
        "        data=data,\n",
        "        x=feature,\n",
        "        kde=kde,\n",
        "        ax=ax_hist2\n",
        "    )\n",
        "\n",
        "    # For histogram\n",
        "    ax_hist2.axvline(\n",
        "        data[feature].mean(),\n",
        "        color=\"green\",\n",
        "        linestyle=\"--\"\n",
        "    )\n",
        "\n",
        "    # Add mean to the histogram\n",
        "    ax_hist2.axvline(\n",
        "        data[feature].median(),\n",
        "        color=\"black\",\n",
        "        linestyle=\"-\"\n",
        "    )\n",
        "\n",
        "    # Add median to the histogram\n",
        "\n",
        "# Example usage\n",
        "histogram_boxplot(data, \"age\")\n"
      ],
      "metadata": {
        "id": "9im9TPz5G5Ts"
      },
      "execution_count": null,
      "outputs": []
    },
    {
      "cell_type": "code",
      "source": [
        "# Observations on wesbite_visits:\n",
        "\n",
        "histogram_boxplot(data, \"website_visits\")"
      ],
      "metadata": {
        "id": "6GhgmL1SFvvj"
      },
      "execution_count": null,
      "outputs": []
    },
    {
      "cell_type": "code",
      "source": [
        "# To check how many leads have not visited web-site\n",
        "\n",
        "data[data[\"website_visits\"] == 0].shape"
      ],
      "metadata": {
        "id": "4WnmAmcVHins"
      },
      "execution_count": null,
      "outputs": []
    },
    {
      "cell_type": "code",
      "source": [
        "# Observations on number of time_spent_on_website\n",
        "\n",
        "histogram_boxplot(data, \"time_spent_on_website\")"
      ],
      "metadata": {
        "id": "HPJhLEYlHo6r"
      },
      "execution_count": null,
      "outputs": []
    },
    {
      "cell_type": "code",
      "source": [
        "# Observations on number of page_views_per_visit\n",
        "\n",
        "histogram_boxplot(data, \"page_views_per_visit\")"
      ],
      "metadata": {
        "id": "2huhDiUhHuxv"
      },
      "execution_count": null,
      "outputs": []
    },
    {
      "cell_type": "code",
      "source": [
        "# Function to create labeled barplots\n",
        "\n",
        "def labeled_barplot(data, feature, perc=False, n=None):\n",
        "    \"\"\"\n",
        "    Barplot with percentage at the top\n",
        "    data: dataframe\n",
        "    feature: dataframe column\n",
        "    perc: whether to display percentages instead of count (default is False)\n",
        "    n: displays the top n category levels (default is None, i.e., display all levels)\n",
        "    \"\"\"\n",
        "\n",
        "    total = len(data[feature])  # length of the column\n",
        "    count = data[feature].nunique()\n",
        "\n",
        "    if n is None:\n",
        "        plt.figure(figsize=(count + 1, 5))\n",
        "    else:\n",
        "        plt.figure(figsize=(n + 1, 5))\n",
        "\n",
        "    plt.xticks(rotation=90, fontsize=15)\n",
        "\n",
        "    ax = sns.countplot(\n",
        "        data=data,\n",
        "        x=feature,\n",
        "        palette=\"Paired\",\n",
        "        order=data[feature].value_counts().index[:n].sort_values(),\n",
        "    )\n",
        "\n",
        "    for p in ax.patches:\n",
        "        if perc is True:\n",
        "            label = \"{:.1f}%\".format(100 * p.get_height() / total)  # percentage of each class\n",
        "        else:\n",
        "            label = p.get_height()  # count of each level of the category\n",
        "\n",
        "        x = p.get_x() + p.get_width() / 2  # width of the plot\n",
        "        y = p.get_height()  # height of the plot\n",
        "\n",
        "        ax.annotate(\n",
        "            label,\n",
        "            (x, y),\n",
        "            ha=\"center\",\n",
        "            va=\"center\",\n",
        "            size=12,\n",
        "            xytext=(0, 5),\n",
        "            textcoords=\"offset points\",\n",
        "        )\n",
        "\n",
        "    # Annotate the percentage\n",
        "    plt.show()"
      ],
      "metadata": {
        "id": "mlQw2pbYH0m2"
      },
      "execution_count": null,
      "outputs": []
    },
    {
      "cell_type": "code",
      "source": [
        "# Observations on current_occupation\n",
        "\n",
        "labeled_barplot(data, \"current_occupation\", perc=True)"
      ],
      "metadata": {
        "id": "HaZuuB8uIKW9"
      },
      "execution_count": null,
      "outputs": []
    },
    {
      "cell_type": "code",
      "source": [
        "# Observations on number of first_interaction\n",
        "\n",
        "labeled_barplot(data, \"first_interaction\", perc=True) # Complete the\n",
        "code to plot labeled_barplot for first_interaction"
      ],
      "metadata": {
        "id": "6RgiwRhJLRUk"
      },
      "execution_count": null,
      "outputs": []
    },
    {
      "cell_type": "code",
      "source": [
        "# Observations on number of profile_completed\n",
        "\n",
        "labeled_barplot(data, \"profile_completed\", perc=True) # Complete the\n",
        "code to plot labeled_barplot for profile_completed"
      ],
      "metadata": {
        "id": "-o6iYzVYLRW_"
      },
      "execution_count": null,
      "outputs": []
    },
    {
      "cell_type": "code",
      "source": [
        "# Observations on last_activity\n",
        "labeled_barplot(data, \"last_activity\", perc=True) # Complete the code\n",
        "to plot labeled_barplot for last_activity"
      ],
      "metadata": {
        "id": "fzXenDNPLRZP"
      },
      "execution_count": null,
      "outputs": []
    },
    {
      "cell_type": "code",
      "source": [
        "# Observations on print_media_type1\n",
        "\n",
        "labeled_barplot(data, \"print_media_type1\", perc=True) # Complete the\n",
        "code to plot labeled_barplot for print_media_type1"
      ],
      "metadata": {
        "id": "uVG6aq8KLRbn"
      },
      "execution_count": null,
      "outputs": []
    },
    {
      "cell_type": "code",
      "source": [
        "# Observations on print_media_type2\n",
        "\n",
        "labeled_barplot(data, \"print_media_type2\", perc=True) # Complete the\n",
        "code to plot labeled_barplot for print_media_type2"
      ],
      "metadata": {
        "id": "cVg1NIafLRho"
      },
      "execution_count": null,
      "outputs": []
    },
    {
      "cell_type": "code",
      "source": [
        "# Observations on digital_media\n",
        "\n",
        "labeled_barplot(data, \"digital_media\", perc=True) # Complete the code\n",
        "to plot labeled_barplot for digital_media"
      ],
      "metadata": {
        "id": "s7rKZl6XLRkH"
      },
      "execution_count": null,
      "outputs": []
    },
    {
      "cell_type": "code",
      "source": [
        "# Observations on educational_channels\n",
        "\n",
        "labeled_barplot(data, \"educational_channels\", perc=True) # Complete\n",
        "the code to plot labeled_barplot for educational_channels"
      ],
      "metadata": {
        "id": "nmxyZvy4LRmX"
      },
      "execution_count": null,
      "outputs": []
    },
    {
      "cell_type": "code",
      "source": [
        "# Observations on referral\n",
        "\n",
        "labeled_barplot(data, \"referral\", perc=True) # Complete the code to\n",
        "plot labeled_barplot for referral"
      ],
      "metadata": {
        "id": "-_bbpmksLRqv"
      },
      "execution_count": null,
      "outputs": []
    },
    {
      "cell_type": "code",
      "source": [
        "# Observations on status\n",
        "\n",
        "labeled_barplot(data, \"status\", perc=True) # Complete the code to plot\n",
        "labeled_barplot for status"
      ],
      "metadata": {
        "id": "3iHMdrTrLRtP"
      },
      "execution_count": null,
      "outputs": []
    },
    {
      "cell_type": "code",
      "source": [
        "# Bivariate Analysis\n",
        "\n",
        "cols_list = data.select_dtypes(include=np.number).columns.tolist()\n",
        "plt.figure(figsize=(12, 7))\n",
        "sns.heatmap(\n",
        "    data[cols_list].corr(),\n",
        "    annot=True,\n",
        "    vmin=-1,\n",
        "    vmax=1,\n",
        "    fmt=\".2f\",\n",
        "    cmap=\"Spectral\"\n",
        ")\n",
        "plt.show()\n"
      ],
      "metadata": {
        "id": "kMlbSwfXMFW4"
      },
      "execution_count": null,
      "outputs": []
    },
    {
      "cell_type": "code",
      "source": [
        "# Creating functions that will help us with further analysis\n",
        "\n",
        "### function to plot distributions wrt target\n",
        "def distribution_plot_wrt_target(data, predictor, target):\n",
        " fig, axs = plt.subplots(2, 2, figsize=(12, 10))\n",
        " target_uniq = data[target].unique()\n",
        " axs[0, 0].set_title(\"Distribution of target for target=\" +\n",
        "str(target_uniq[0]))\n",
        " sns.histplot(\n",
        " data=data[data[target] == target_uniq[0]],\n",
        " x=predictor,\n",
        " kde=True,\n",
        " ax=axs[0, 0],\n",
        " color=\"teal\",\n",
        " stat=\"density\",\n",
        " )\n",
        " axs[0, 1].set_title(\"Distribution of target for target=\" +\n",
        "str(target_uniq[1]))\n",
        "\n",
        " sns.histplot(\n",
        " data=data[data[target] == target_uniq[1]],\n",
        " x=predictor,\n",
        " kde=True,\n",
        " ax=axs[0, 1],\n",
        " color=\"orange\",\n",
        " stat=\"density\",\n",
        " )\n",
        " axs[1, 0].set_title(\"Boxplot w.r.t target\")\n",
        " sns.boxplot(data=data, x=target, y=predictor, ax=axs[1, 0],\n",
        "palette=\"gist_rainbow\")\n",
        " axs[1, 1].set_title(\"Boxplot (without outliers) w.r.t target\")\n",
        " sns.boxplot(\n",
        " data=data,\n",
        " x=target,\n",
        " y=predictor,\n",
        " ax=axs[1, 1],\n",
        " showfliers=False,\n",
        " palette=\"gist_rainbow\",\n",
        " )\n",
        " plt.tight_layout()\n",
        " plt.show()\n",
        "\n",
        "def stacked_barplot(data, predictor, target):\n",
        " \"\"\"\n",
        " Print the category counts and plot a stacked bar chart\n",
        " data: dataframe\n",
        " predictor: independent variable\n",
        " target: target variable\n",
        " \"\"\"\n",
        " count = data[predictor].nunique()\n",
        " sorter = data[target].value_counts().index[-1]\n",
        " tab1 = pd.crosstab(data[predictor], data[target],\n",
        "margins=True).sort_values(\n",
        " by=sorter, ascending=False\n",
        " )\n",
        " print(tab1)\n",
        " print(\"-\" * 120)\n",
        " tab = pd.crosstab(data[predictor], data[target],\n",
        "normalize=\"index\").sort_values(\n",
        " by=sorter, ascending=False\n",
        " )\n",
        " tab.plot(kind=\"bar\", stacked=True, figsize=(count + 5, 5))\n",
        " plt.legend(\n",
        " loc=\"lower left\", frameon=False,\n",
        " )\n",
        "\n",
        " plt.legend(loc=\"upper left\", bbox_to_anchor=(1, 1))\n",
        " plt.show()\n",
        "\n",
        "\n"
      ],
      "metadata": {
        "id": "j8FD4hLuMFZY"
      },
      "execution_count": null,
      "outputs": []
    },
    {
      "cell_type": "code",
      "source": [
        "# Age can be a good factor to differentiate between such leads\n",
        "\n",
        "plt.figure(figsize=(10, 5))\n",
        "sns.boxplot(data = data, x = data[\"current_occupation\"], y =\n",
        "data[\"age\"])\n",
        "plt.show()\n"
      ],
      "metadata": {
        "id": "leMAZcDiMFbo"
      },
      "execution_count": null,
      "outputs": []
    },
    {
      "cell_type": "code",
      "source": [
        "data.groupby([\"current_occupation\"])[\"age\"].describe()\n"
      ],
      "metadata": {
        "id": "gk9WXunDMFd6"
      },
      "execution_count": null,
      "outputs": []
    },
    {
      "cell_type": "code",
      "source": [
        "# The company's first interaction with leads should be compelling and persuasive. Let's see if the channels of the first interaction have an impact on the conversion of leads\n",
        "\n",
        "stacked_barplot(data, \"first_interaction\", \"status\")"
      ],
      "metadata": {
        "id": "HNRkzQxhMFf5"
      },
      "execution_count": null,
      "outputs": []
    },
    {
      "cell_type": "code",
      "source": [
        "distribution_plot_wrt_target(data, \"time_spent_on_website\", \"status\")"
      ],
      "metadata": {
        "id": "SaOKXHBdMFj3"
      },
      "execution_count": null,
      "outputs": []
    },
    {
      "cell_type": "code",
      "source": [
        "# checking the median value\n",
        "data.groupby([\"status\"])[\"time_spent_on_website\"].median()"
      ],
      "metadata": {
        "id": "_1oGTHqGMFmQ"
      },
      "execution_count": null,
      "outputs": []
    },
    {
      "cell_type": "code",
      "source": [
        "distribution_plot_wrt_target(data, \"website_visits\", \"status\") #"
      ],
      "metadata": {
        "id": "6xPPzDV2MFqY"
      },
      "execution_count": null,
      "outputs": []
    },
    {
      "cell_type": "code",
      "source": [
        "distribution_plot_wrt_target(data, \"page_views_per_visit\", \"status\")"
      ],
      "metadata": {
        "id": "PYndyst9MFs_"
      },
      "execution_count": null,
      "outputs": []
    },
    {
      "cell_type": "code",
      "source": [
        "stacked_barplot(data, \"profile_completed\", \"status\")"
      ],
      "metadata": {
        "id": "Rd_zCG8fM28y"
      },
      "execution_count": null,
      "outputs": []
    },
    {
      "cell_type": "code",
      "source": [
        "stacked_barplot(data, \"last_activity\", \"status\")"
      ],
      "metadata": {
        "id": "EuedUTrbM3AY"
      },
      "execution_count": null,
      "outputs": []
    },
    {
      "cell_type": "code",
      "source": [
        "stacked_barplot(data, \"print_media_type1\", \"status\")\n"
      ],
      "metadata": {
        "id": "Y5d7tUxpM3DA"
      },
      "execution_count": null,
      "outputs": []
    },
    {
      "cell_type": "code",
      "source": [
        "stacked_barplot(data, \"print_media_type2\", \"status\")"
      ],
      "metadata": {
        "id": "n63if4yzM3HY"
      },
      "execution_count": null,
      "outputs": []
    },
    {
      "cell_type": "code",
      "source": [
        "stacked_barplot(data, \"digital_media\", \"status\")"
      ],
      "metadata": {
        "id": "fBXZtTesM3Lz"
      },
      "execution_count": null,
      "outputs": []
    },
    {
      "cell_type": "code",
      "source": [
        "stacked_barplot(data, \"educational_channels\", \"status\")"
      ],
      "metadata": {
        "id": "8bYd7QWPNBpA"
      },
      "execution_count": null,
      "outputs": []
    },
    {
      "cell_type": "code",
      "source": [
        "stacked_barplot(data, \"referral\", \"status\")"
      ],
      "metadata": {
        "id": "ifuPmvw-NBrr"
      },
      "execution_count": null,
      "outputs": []
    },
    {
      "cell_type": "code",
      "source": [
        "# Outlier Check\n",
        "\n",
        "# Outlier detection using boxplot\n",
        "numeric_columns = data.select_dtypes(include=np.number).columns.tolist()\n",
        "\n",
        "# Dropping 'status' as it is a temporal variable\n",
        "numeric_columns.remove(\"status\")\n",
        "\n",
        "plt.figure(figsize=(15, 12))\n",
        "\n",
        "for i, variable in enumerate(numeric_columns):\n",
        "    plt.subplot(4, 4, i + 1)\n",
        "    plt.boxplot(data[variable], whis=1.5)\n",
        "    plt.tight_layout()\n",
        "    plt.title(variable)\n",
        "\n",
        "plt.show()"
      ],
      "metadata": {
        "id": "xXuHv9QiNBwh"
      },
      "execution_count": null,
      "outputs": []
    },
    {
      "cell_type": "code",
      "source": [
        "# Data Preparation for modeling\n",
        "\n",
        "X = data.drop([\"status\"], axis=1)\n",
        "Y = data[\"status\"]  # Complete the code to define the dependent (target) variable\n",
        "\n",
        "X = pd.get_dummies(X, drop_first=True)  # Complete the code to get dummies for X\n",
        "\n",
        "# Splitting the data in 70:30 ratio for train to test data\n",
        "X_train, X_test, y_train, y_test = train_test_split(\n",
        "    X, Y, test_size=0.30, random_state=1\n",
        ")\n",
        "\n",
        "print(\"Shape of Training set : \", X_train.shape)\n",
        "print(\"Shape of test set : \", X_test.shape)\n",
        "\n",
        "print(\"Percentage of classes in training set:\")\n",
        "print(y_train.value_counts(normalize=True))\n",
        "\n",
        "print(\"Percentage of classes in test set:\")\n",
        "print(y_test.value_counts(normalize=True))\n"
      ],
      "metadata": {
        "id": "-Lq-AIOwNByg"
      },
      "execution_count": null,
      "outputs": []
    },
    {
      "cell_type": "code",
      "source": [
        "# Building Classification Models\n",
        "\n",
        "# Function to print the classification report and get confusion matrix in a proper format\n",
        "def metrics_score(actual, predicted):\n",
        "    print(classification_report(actual, predicted))\n",
        "\n",
        "    cm = confusion_matrix(actual, predicted)\n",
        "\n",
        "    plt.figure(figsize=(8, 5))\n",
        "    sns.heatmap(\n",
        "        cm,\n",
        "        annot=True,\n",
        "        fmt='.2f',\n",
        "        xticklabels=['Not Converted', 'Converted'],\n",
        "        yticklabels=['Not Converted', 'Converted']\n",
        "    )\n",
        "\n",
        "    plt.ylabel('Actual')\n",
        "    plt.xlabel('Predicted')\n",
        "    plt.show()\n"
      ],
      "metadata": {
        "id": "gDVhcA6fNB0z"
      },
      "execution_count": null,
      "outputs": []
    },
    {
      "cell_type": "code",
      "source": [
        "# Building Decision Tree Model\n",
        "\n",
        "# Fitting the decision tree classifier on the training data\n",
        "d_tree = DecisionTreeClassifier()\n",
        "d_tree.fit(X_train, y_train)\n",
        "\n",
        "# Making predictions on the training data\n",
        "prediction = d_tree.predict(X_train)\n"
      ],
      "metadata": {
        "id": "pZAxIZu3NB26"
      },
      "execution_count": null,
      "outputs": []
    },
    {
      "cell_type": "code",
      "source": [
        "# Checking model performance on training set\n",
        "\n",
        "# Checking performance on the training data\n",
        "y_pred_train1 = y_train\n",
        "metrics_score(y_train, prediction)"
      ],
      "metadata": {
        "id": "d3Sau-2FNkcJ"
      },
      "execution_count": null,
      "outputs": []
    },
    {
      "cell_type": "code",
      "source": [
        "# Let's check the performance on test data to see if the model is overfitting.\n",
        "\n",
        "# Checking performance on the testing data\n",
        "prediction_test = d_tree.predict(X_test)\n",
        "metrics_score(y_test, prediction_test)"
      ],
      "metadata": {
        "id": "zxFFctVnNkeY"
      },
      "execution_count": null,
      "outputs": []
    },
    {
      "cell_type": "code",
      "source": [
        "# Decision Tree - Hyperparameter Tuning\n",
        "\n",
        "# Choose the type of classifier\n",
        "d_tree_tuned = DecisionTreeClassifier(\n",
        "    random_state=7,\n",
        "    class_weight={0: 0.3, 1: 0.7}\n",
        ")\n",
        "\n",
        "# Grid of parameters to choose from\n",
        "parameters = {\n",
        "    'max_depth': np.arange(2, 10),\n",
        "    'criterion': ['gini', 'entropy'],\n",
        "    'min_samples_leaf': [5, 10, 20, 25]\n",
        "}\n",
        "\n",
        "# Type of scoring used to compare parameter combinations - recall score for class 1\n",
        "scorer = metrics.make_scorer(recall_score, pos_label=1)\n",
        "\n",
        "# Run the grid search\n",
        "grid_obj = GridSearchCV(d_tree_tuned, parameters, scoring=scorer, cv=5)\n",
        "grid_obj = grid_obj.fit(X_train, y_train)\n",
        "\n",
        "# Set the classifier to the best combination of parameters\n",
        "d_tree_tuned = grid_obj.best_estimator_\n",
        "\n",
        "# Fit the best algorithm to the data\n",
        "d_tree_tuned.fit(X_train, y_train)"
      ],
      "metadata": {
        "id": "kI08PFyANkiQ"
      },
      "execution_count": null,
      "outputs": []
    },
    {
      "cell_type": "code",
      "source": [
        "# Let's check the model performance on the testing data\n",
        "\n",
        "# Checking performance on the testing data\n",
        "y_pred_test2 = d_tree_tuned.predict(X_test)\n"
      ],
      "metadata": {
        "id": "9TgbqUemOENr"
      },
      "execution_count": null,
      "outputs": []
    },
    {
      "cell_type": "code",
      "source": [
        "# Visualizing the Decision Tree\n",
        "\n",
        "# features = list(X.columns)\n",
        "plt.figure(figsize = (20, 20))\n",
        "tree.plot_tree(d_tree_tuned, feature_names = features, filled = True,\n",
        "fontsize = 9, node_ids = True, class_names = True)\n",
        "plt.show()"
      ],
      "metadata": {
        "id": "6LX-dHwgOESI"
      },
      "execution_count": null,
      "outputs": []
    },
    {
      "cell_type": "code",
      "source": [
        "# Looking at Feature Importance\n",
        "\n",
        "# Importance of features in the tree building\n",
        "print(\n",
        "    pd.DataFrame(\n",
        "        d_tree_tuned.feature_importances_,\n",
        "        columns=[\"Imp\"],\n",
        "        index=X_train.columns\n",
        "    ).sort_values(by='Imp', ascending=False)\n",
        ")\n",
        "\n",
        "# Plotting the feature importance\n",
        "importances = d_tree_tuned.feature_importances_\n",
        "indices = np.argsort(importances)\n",
        "\n",
        "plt.figure(figsize=(10, 10))\n",
        "plt.title('Feature Importances')\n",
        "plt.barh(\n",
        "    range(len(indices)),\n",
        "    importances[indices],\n",
        "    color='violet',\n",
        "    align='center'\n",
        ")\n",
        "plt.yticks(range(len(indices)), [X_train.columns[i] for i in indices])\n",
        "plt.xlabel('Relative Importance')\n",
        "plt.show()"
      ],
      "metadata": {
        "id": "fgiI_qVyOEVZ"
      },
      "execution_count": null,
      "outputs": []
    },
    {
      "cell_type": "code",
      "source": [
        "# Random Forest Classifier\n",
        "\n",
        "# Fitting the random forest tree classifier on the training data\n",
        "rf_estimator = RandomForestClassifier()\n",
        "rf_estimator.fit(X_train, y_train)\n",
        "RandomForestClassifier()\n"
      ],
      "metadata": {
        "id": "PJT0Qa6YOZot"
      },
      "execution_count": null,
      "outputs": []
    },
    {
      "cell_type": "code",
      "source": [
        "# Checking performance on the training data\n",
        "y_pred_train3 = rf_estimator.predict(X_train)"
      ],
      "metadata": {
        "id": "mQ9k87oCOZs5"
      },
      "execution_count": null,
      "outputs": []
    },
    {
      "cell_type": "code",
      "source": [
        "# Checking performance on the testing data\n",
        "y_pred_test3 = rf_estimator.predict(X_test)\n",
        "metrics_score(y_test, y_pred_test3)\n"
      ],
      "metadata": {
        "id": "0gabOHeCOkAZ"
      },
      "execution_count": null,
      "outputs": []
    },
    {
      "cell_type": "code",
      "source": [
        "# Random Forest Classifier - Hyperparameter Tuning\n",
        "\n",
        "# Choose the type of classifier\n",
        "rf_estimator_tuned = RandomForestClassifier(\n",
        "    criterion=\"entropy\",\n",
        "    random_state=7\n",
        ")\n",
        "\n",
        "# Grid of parameters to choose from\n",
        "parameters = {\n",
        "    \"n_estimators\": [110, 120],\n",
        "    \"max_depth\": [6, 7],\n",
        "    \"min_samples_leaf\": [20, 25],\n",
        "    \"max_features\": [0.8, 0.9],\n",
        "    \"max_samples\": [0.9, 1],\n",
        "    \"class_weight\": [\"balanced\", {0: 0.3, 1: 0.7}]\n",
        "}\n",
        "\n",
        "# Type of scoring used to compare parameter combinations - recall score for class 1\n",
        "scorer = metrics.make_scorer(recall_score, pos_label=1)\n",
        "\n",
        "# Run the grid search on the training data using scorer=scorer and cv=5\n",
        "grid_obj = GridSearchCV(rf_estimator_tuned, parameters, scoring=scorer, cv=5)\n",
        "grid_obj = grid_obj.fit(X_train, y_train)\n",
        "\n",
        "# Save the best estimator to variable rf_estimator_tuned\n",
        "rf_estimator_tuned = grid_obj.best_estimator_\n",
        "\n",
        "# Fit the best algorithm to the data\n",
        "rf_estimator_tuned.fit(X_train, y_train)\n",
        "\n",
        "# Fitting the best algorithm to the training data\n",
        "rf_estimator_tuned.fit(X_train, y_train)\n",
        "\n",
        "# Checking performance on the training data\n",
        "y_pred_train4 = rf_estimator_tuned.predict(X_train)"
      ],
      "metadata": {
        "id": "GHPFKdnDOkDb"
      },
      "execution_count": null,
      "outputs": []
    },
    {
      "cell_type": "code",
      "source": [
        "# Let's check the model performance on the test data\n",
        "\n",
        "# Checking performance on the test data\n",
        "y_pred_train4 = rf_estimator_tuned.predict(X_test)"
      ],
      "metadata": {
        "id": "U-topWZ3Oumm"
      },
      "execution_count": null,
      "outputs": []
    },
    {
      "cell_type": "code",
      "source": [
        "importances = rf_estimator_tuned.feature_importances_\n",
        "indices = np.argsort(importances)\n",
        "feature_names = list(X.columns)\n",
        "\n",
        "plt.figure(figsize=(12, 12))\n",
        "plt.title('Feature Importances')\n",
        "plt.barh(\n",
        "    range(len(indices)),\n",
        "    importances[indices],\n",
        "    color='violet',\n",
        "    align='center'\n",
        ")\n",
        "plt.yticks(range(len(indices)), [feature_names[i] for i in indices])\n",
        "plt.xlabel('Relative Importance')\n",
        "plt.show()\n"
      ],
      "metadata": {
        "id": "6Z4PWMxEOuuc"
      },
      "execution_count": null,
      "outputs": []
    },
    {
      "cell_type": "code",
      "source": [],
      "metadata": {
        "id": "Q6ql4vIWOkHx"
      },
      "execution_count": null,
      "outputs": []
    }
  ]
}
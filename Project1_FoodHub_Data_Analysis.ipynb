{
  "nbformat": 4,
  "nbformat_minor": 0,
  "metadata": {
    "colab": {
      "provenance": [],
      "authorship_tag": "ABX9TyOcL296qb9VlK6u9SGVUZxO",
      "include_colab_link": true
    },
    "kernelspec": {
      "name": "python3",
      "display_name": "Python 3"
    },
    "language_info": {
      "name": "python"
    }
  },
  "cells": [
    {
      "cell_type": "markdown",
      "metadata": {
        "id": "view-in-github",
        "colab_type": "text"
      },
      "source": [
        "<a href=\"https://colab.research.google.com/github/KrishnaKakani-GitHub/Introduction-To-Github/blob/main/Project1_FoodHub_Data_Analysis.ipynb\" target=\"_parent\"><img src=\"https://colab.research.google.com/assets/colab-badge.svg\" alt=\"Open In Colab\"/></a>"
      ]
    },
    {
      "cell_type": "code",
      "execution_count": null,
      "metadata": {
        "id": "-hVtBWoOacmw"
      },
      "outputs": [],
      "source": [
        "# Import the Numpy and Pandas libraries for manipulation\n",
        "import numpy as np\n",
        "import pandas as pd\n",
        "# Import the Matplotlib and Seaborn libraries for data visualization\n",
        "import matplotlib.pyplot as plt\n",
        "import seaborn as sns"
      ]
    },
    {
      "cell_type": "code",
      "source": [
        "from google.colab import drive\n",
        "drive.mount('/content/drive')"
      ],
      "metadata": {
        "id": "PmfgFa_layWp"
      },
      "execution_count": null,
      "outputs": []
    },
    {
      "cell_type": "code",
      "source": [
        "# This function will import the dataset required to visualize this dataset\n",
        "df = pd.read_csv('foodhub_order.csv')\n",
        "# This function will output the first 5 rows of the dataset\n",
        "df.head()"
      ],
      "metadata": {
        "id": "5h_9Sr8Ya2wR"
      },
      "execution_count": null,
      "outputs": []
    },
    {
      "cell_type": "code",
      "source": [
        "# This function will output the total number of rows and columns present in the data\n",
        "df.shape"
      ],
      "metadata": {
        "id": "eFMv3bNCa56N"
      },
      "execution_count": null,
      "outputs": []
    },
    {
      "cell_type": "code",
      "source": [
        "# # This function will output the datatypes of the different columns within the dataset\n",
        "df.info()"
      ],
      "metadata": {
        "id": "GeEHkBx-a58a"
      },
      "execution_count": null,
      "outputs": []
    },
    {
      "cell_type": "code",
      "source": [
        "# This function outputs the sum of the null values (checks for missing values within the\n",
        "data)\n",
        "df.isnull().values.any()\n",
        "# Count the number of \"Not given\" ratings using Pandas\n",
        "not_given_count_pandas = df['rating'].value_counts()['Not given']\n",
        "# Count the number of \"Not given\" ratings using NumPy\n",
        "not_given_count_numpy = np.sum(df['rating'] == 'Not given')\n",
        "# Display the counts\n",
        "not_given_count_pandas, not_given_count_numpy"
      ],
      "metadata": {
        "id": "yVHk9oGxa6Ai"
      },
      "execution_count": null,
      "outputs": []
    },
    {
      "cell_type": "code",
      "source": [
        "# This function outputs the summary statistics of the data\n",
        "df.describe(include='all').T"
      ],
      "metadata": {
        "id": "2Be0M0Sqa6Ex"
      },
      "execution_count": null,
      "outputs": []
    },
    {
      "cell_type": "code",
      "source": [
        "# This function will output the amount of orders within the dataset\n",
        "df.value_counts()"
      ],
      "metadata": {
        "id": "ebgg3rIPa6HM"
      },
      "execution_count": null,
      "outputs": []
    },
    {
      "cell_type": "code",
      "source": [
        "# This function will output an unique array of the order ID's within the dataset\n",
        "df['order_id'].unique()"
      ],
      "metadata": {
        "id": "o_Dcla16bHNr"
      },
      "execution_count": null,
      "outputs": []
    },
    {
      "cell_type": "code",
      "source": [
        "# This function will output all of the unique restaurant names within the dataset\n",
        "df['restaurant_name'].unique()"
      ],
      "metadata": {
        "id": "KVKwzENBa6LT"
      },
      "execution_count": null,
      "outputs": []
    },
    {
      "cell_type": "code",
      "source": [
        "# This function will output the unique cuisine types (and the number of cuisine types) wi\n",
        "thin the dataset\n",
        "df.cuisine_type.unique()\n",
        "print(df.cuisine_type.unique())\n",
        "df.cuisine_type.nunique()"
      ],
      "metadata": {
        "id": "8ORymCMXa6Ng"
      },
      "execution_count": null,
      "outputs": []
    },
    {
      "cell_type": "code",
      "source": [
        "# Outline the size of the plot\n",
        "plt.figure(figsize = (15,5))\n",
        "# Create a countplot for cuisine type.\n",
        "sns.countplot(data = df, x = 'cuisine_type')"
      ],
      "metadata": {
        "id": "Rk6Vjssma6SB"
      },
      "execution_count": null,
      "outputs": []
    },
    {
      "cell_type": "code",
      "source": [
        "# Create a histplot for cost of the order\n",
        "sns.histplot(data=df,x='cost_of_the_order')\n",
        "plt.show()\n",
        "# Create a boxplot for cost of the order\n",
        "sns.boxplot(data=df,x='cost_of_the_order')\n",
        "plt.show()"
      ],
      "metadata": {
        "id": "YlgOcjQfbPT1"
      },
      "execution_count": null,
      "outputs": []
    },
    {
      "cell_type": "code",
      "source": [
        "# This function will check the unique values of the day_of_the_week function\n",
        "df['day_of_the_week'].value_counts()"
      ],
      "metadata": {
        "id": "yuOHjG9zbPWV"
      },
      "execution_count": null,
      "outputs": []
    },
    {
      "cell_type": "code",
      "source": [
        "# Create a countplot for the 'day_of_the_week' column\n",
        "sns.countplot(data = df, x = 'day_of_the_week')"
      ],
      "metadata": {
        "id": "Ei4mRsHJbWh9"
      },
      "execution_count": null,
      "outputs": []
    },
    {
      "cell_type": "code",
      "source": [
        "# This function will output the unique values of the 'rating' column\n",
        "df['rating'].unique()"
      ],
      "metadata": {
        "id": "bLeiNzpubPaT"
      },
      "execution_count": null,
      "outputs": []
    },
    {
      "cell_type": "code",
      "source": [
        "# Create a countplot for the rating column\n",
        "sns.countplot(data = df, x = 'rating')\n"
      ],
      "metadata": {
        "id": "OLEM9LopbPe8"
      },
      "execution_count": null,
      "outputs": []
    },
    {
      "cell_type": "code",
      "source": [
        "# Create a histogram for the cost of the order\n",
        "sns.histplot(data=df, x= 'cost_of_the_order')\n",
        "plt.show()\n",
        "# Create a boxplot for the cost of order\n",
        "sns.boxplot(data=df,x= 'cost_of_the_order')\n",
        "plt.show()"
      ],
      "metadata": {
        "id": "LiiOMTcabPi7"
      },
      "execution_count": null,
      "outputs": []
    },
    {
      "cell_type": "code",
      "source": [
        "# Create a histogram for the delivery time\n",
        "sns.histplot(data=df,x='delivery_time')\n",
        "plt.show()\n",
        "# Create a boxplot for the delivery time\n",
        "sns.boxplot(data=df,x='delivery_time')\n",
        "plt.show()"
      ],
      "metadata": {
        "id": "xSwtzGuDbPlx"
      },
      "execution_count": null,
      "outputs": []
    },
    {
      "cell_type": "code",
      "source": [
        "# This function will ouptut the top 5 restaurants with highest number of orders within th\n",
        "e datset\n",
        "df['restaurant_name'].value_counts().head(5)"
      ],
      "metadata": {
        "id": "1PYkIfeIbPol"
      },
      "execution_count": null,
      "outputs": []
    },
    {
      "cell_type": "code",
      "source": [
        "# This function will output the most popular cuisines on the weekends within the datset\n",
        "df_weekend = df[df['day_of_the_week'] == 'Weekend']\n",
        "# This function will output the unique values for the cuisine types offered on the weeken\n",
        "ds\n",
        "df_weekend['cuisine_type'].unique()"
      ],
      "metadata": {
        "id": "Akf1dH-1bnOp"
      },
      "execution_count": null,
      "outputs": []
    },
    {
      "cell_type": "code",
      "source": [
        "# This function will output the orders that cost above 20 dollars within the dataset\n",
        "df_greater_than_20 = df[df['cost_of_the_order']>20] ## Write the appropriate column name\n",
        "to get the orders having cost above $20\n",
        "# This function will calculate the number of total orders where the cost is above 20 doll\n",
        "ars within the dataset\n",
        "print('The number of total orders that cost above 20 dollars is:', df_greater_than_20.sha\n",
        "pe[0])\n",
        "# This function will calculate the percentage of such orders where the cost is above 20 d\n",
        "ollars within the dataset\n",
        "percentage = (df_greater_than_20.shape[0] / df.shape[0]) * 100\n",
        "print(\"Percentage of orders above 20 dollars:\", round(percentage, 2), '%')"
      ],
      "metadata": {
        "id": "enkeWGcAbnRf"
      },
      "execution_count": null,
      "outputs": []
    },
    {
      "cell_type": "code",
      "source": [
        "# This function will calculate the mean delivery time\n",
        "mean_del_time = df['delivery_time'].mean()\n",
        "print('The mean delivery time for this dataset is', round(mean_del_time, 2), 'minutes')"
      ],
      "metadata": {
        "id": "NN0HEPSBbnWF"
      },
      "execution_count": null,
      "outputs": []
    },
    {
      "cell_type": "code",
      "source": [
        "# Calculate the number of orders each customer ID has placed\n",
        "df['customer_id'].value_counts().head(3)"
      ],
      "metadata": {
        "id": "ywH4B8fCbnbi"
      },
      "execution_count": null,
      "outputs": []
    },
    {
      "cell_type": "code",
      "source": [
        "# Caclulate the relationship between cost of the order and cuisine type\n",
        "plt.figure(figsize=(15,7))\n",
        "sns.boxplot(x = \"cuisine_type\", y = \"cost_of_the_order\", data = df, palette = 'PuBu')\n",
        "plt.xticks(rotation = 60)\n",
        "plt.show()"
      ],
      "metadata": {
        "id": "AZEbTAB-bnd4"
      },
      "execution_count": null,
      "outputs": []
    },
    {
      "cell_type": "code",
      "source": [
        "# Generate a boxplot analyzing the bivariate relationship between cuisine_Type & food_pre\n",
        "paration_type\n",
        "plt.figure(figsize=(15, 7))\n",
        "sns.boxplot(x='cuisine_type', y='food_preparation_time', data=df)\n",
        "plt.xticks(rotation=60)\n",
        "plt.show()"
      ],
      "metadata": {
        "id": "1ZR-5MZLbwk4"
      },
      "execution_count": null,
      "outputs": []
    },
    {
      "cell_type": "code",
      "source": [
        "# Generate the relationship between day of the week and delivery time\n",
        "plt.figure(figsize=(15,7))\n",
        "sns.boxplot(x='day_of_the_week', y='delivery_time', data=df)\n",
        "plt.show()"
      ],
      "metadata": {
        "id": "iyKT9Mg8bwne"
      },
      "execution_count": null,
      "outputs": []
    },
    {
      "cell_type": "code",
      "source": [
        "# Calculate the amount of revenue generated by the restaurants\n",
        "df.groupby(['restaurant_name'])['cost_of_the_order'].sum().sort_values(ascending = False\n",
        ").head(14)"
      ],
      "metadata": {
        "id": "12zEAP0jbwqH"
      },
      "execution_count": null,
      "outputs": []
    },
    {
      "cell_type": "code",
      "source": [
        "# Plot the relationship between rating and delivery time\n",
        "plt.figure(figsize=(15, 7))\n",
        "sns.pointplot(x = 'rating', y = 'delivery_time', data = df)\n",
        "plt.show()"
      ],
      "metadata": {
        "id": "SC2ubsNQbwsF"
      },
      "execution_count": null,
      "outputs": []
    },
    {
      "cell_type": "code",
      "source": [
        "# Plot the relationship between rating and food preparation time\n",
        "plt.figure(figsize=(15, 7))\n",
        "sns.pointplot(x='rating', y='food_preparation_time', data=df)\n",
        "plt.show()"
      ],
      "metadata": {
        "id": "sT9V2FQWbwuG"
      },
      "execution_count": null,
      "outputs": []
    },
    {
      "cell_type": "code",
      "source": [
        "# Plot the relationship between rating and cost of the rrder\n",
        "plt.figure(figsize=(15, 7))\n",
        "sns.pointplot(x='rating', y='cost_of_the_order', data=df)\n",
        "plt.show()"
      ],
      "metadata": {
        "id": "49H1nZXnbwwY"
      },
      "execution_count": null,
      "outputs": []
    },
    {
      "cell_type": "code",
      "source": [
        "# Generate a heatmap\n",
        "col_list = ['cost_of_the_order', 'food_preparation_time', 'delivery_time']\n",
        "plt.figure(figsize=(15, 7))\n",
        "sns.heatmap(df[col_list].corr(), annot=True, vmin=-1, vmax=1, fmt=\".2f\", cmap=\"Spectral\"\n",
        ")\n",
        "plt.show()"
      ],
      "metadata": {
        "id": "rKUu3CDDbwz5"
      },
      "execution_count": null,
      "outputs": []
    },
    {
      "cell_type": "code",
      "source": [
        "# Filter out and calculate the number of rated restaurants\n",
        "df_rated = df[df['rating'] != 'Not given'].copy()\n",
        "# Convert the datatype of object to integer in rating column\n",
        "df_rated['rating'] = df_rated['rating'].astype('int')\n",
        "# Create a dataframe that contains the restaurant names (with their rating counts)\n",
        "df_rating_count = df_rated.groupby(['restaurant_name'])['rating'].count().sort_values(as\n",
        "cending = False).reset_index()\n",
        "df_rating_count.head()"
      ],
      "metadata": {
        "id": "igZim7BUbw2R"
      },
      "execution_count": null,
      "outputs": []
    },
    {
      "cell_type": "code",
      "source": [
        "from matplotlib import pyplot as plt\n",
        "import seaborn as sns\n",
        "df_rating_count.groupby('restaurant_name').size().plot(kind='barh', color=sns.palettes.m\n",
        "pl_palette('Dark2'))\n",
        "plt.gca().spines[['top', 'right',]].set_visible(False)"
      ],
      "metadata": {
        "id": "PwKhlNkcbw6p"
      },
      "execution_count": null,
      "outputs": []
    },
    {
      "cell_type": "code",
      "source": [
        "# Calculate the number of restaurant names that have rating count more than 50\n",
        "rest_names = df_rating_count[df_rating_count['rating'] >= 50]['restaurant_name']\n",
        "# Filter and calculate the number restaurants that have rating count more than 50\n",
        "df_mean_4 = df_rated[df_rated['restaurant_name'].isin(rest_names)].copy()\n",
        "df_mean_4.groupby(['restaurant_name'])['rating'].mean().sort_values(ascending = False).r\n",
        "eset_index().dropna() # Complete the code to find the mean rating"
      ],
      "metadata": {
        "id": "iu03YGKscCfw"
      },
      "execution_count": null,
      "outputs": []
    },
    {
      "cell_type": "code",
      "source": [
        "# Calculate the revenue\n",
        "def compute_rev(x):\n",
        "if x > 20:\n",
        "return x*0.25\n",
        "elif x > 5:\n",
        "return x*0.15\n",
        "else:\n",
        "return x*0\n",
        "df['Revenue'] = df['cost_of_the_order'].apply(compute_rev) ## Write the apprpriate colum\n",
        "n name to compute the revenue\n",
        "df.head()\n"
      ],
      "metadata": {
        "id": "IVXjmyXZcCiB"
      },
      "execution_count": null,
      "outputs": []
    },
    {
      "cell_type": "code",
      "source": [
        "# Calculate the total revenue and print it\n",
        "total_rev = df['Revenue'].sum() ## Write the appropriate function to get the total revenu\n",
        "print('The net revenue is around', round(total_rev, 2), 'dollars')"
      ],
      "metadata": {
        "id": "442G6EgPcCmI"
      },
      "execution_count": null,
      "outputs": []
    },
    {
      "cell_type": "code",
      "source": [
        "# Calculate total delivery time and add a new column to the dataframe df to store the tot\n",
        "al delivery time\n",
        "df['total_time'] = df['food_preparation_time'] + df['delivery_time']\n",
        "# Find the percentage of orders that take more than 60 minutes of total delivery time (se\n",
        "e Question 9 for reference)\n",
        "# This function will output the orders that exceed a delivery period of 60 minutes\n",
        "df_greater_than_20 = df[df['total_time']>60]\n",
        "# This function will calculate the number of total orders that exceed a delivery period o\n",
        "f 60 minutes\n",
        "print('The number of total orders that cost above 20 dollars is:', df_greater_than_20.sha\n",
        "pe[0])\n",
        "# This function will calculate the percentage of such orders where the cost is above 20 d\n",
        "ollars within the dataset\n",
        "percentage = (df_greater_than_20.shape[0] / df.shape[0]) * 100\n",
        "print(\"Percentage of orders above 20 dollars:\", round(percentage, 2), '%')"
      ],
      "metadata": {
        "id": "6Pdxr11qcCqL"
      },
      "execution_count": null,
      "outputs": []
    },
    {
      "cell_type": "code",
      "source": [
        "# The mean delivery time on weekdays\n",
        "print('The mean delivery time on weekdays is around',\n",
        "round(df[df['day_of_the_week'] == 'Weekday']['delivery_time'].mean()),\n",
        "'minutes')\n",
        "#The mean delivery time on weekends\n",
        "print('The mean delivery time on weekdays is around',\n",
        "round(df[df['day_of_the_week'] == 'Weekend']['delivery_time'].mean()),\n",
        "'minutes')"
      ],
      "metadata": {
        "id": "QG2P7SbfcCvi"
      },
      "execution_count": null,
      "outputs": []
    }
  ]
}